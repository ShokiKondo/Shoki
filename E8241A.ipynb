# E8241A
import socket, time, sys
IP = "169.254.83.128"
com = socket.socket( socket.AF_INET, socket.SOCK_STREAM )
com.settimeout(1.0)
port = int(7777)
com.connect((IP, port))

# RFの状態確認 ON or OFF
def check_RF_on_off():
    com.send('OUTP?\n'.encode())
    rec = com.recv(1024) #OFF: 0, ON: 1が返ってくる

    if rec == b'0\n':
        rec = "OFF"
    elif rec == b'1\n':
        rec = "ON"
    else:
        rec = print("Error")
    return rec

# RF: ON
def RF_on():
    com.send("OUTP ON\n".encode())
    rec = check_RF_on_off()
    if rec == "ON":
        rec = "RF信号がONに設定されました。"
        pass
    else:
        print("\n RF の On/Off 状態を確認出来ませんでした。通信エラーの可能性があります。")
        sys.exit("RF_on")
    return rec

# RF: OFF
def RF_off():
    com.send("OUTP OFF\n".encode())
    rec = check_RF_on_off()
    if rec == "OFF":
        rec = "RF信号がOFFに設定されました。"
        pass
    else:
        print("\n RF の On/Off 状態を確認出来ませんでした。通信エラーの可能性があります。")
        sys.exit("RF_off")
    return rec

# 周波数の確認
def check_freq():
    unit_list = ['GHz', 'MHz', 'KHz']
    com.send('Freq?\n'.encode())
    rec = com.recv(1024).decode().strip()
    rec = float(rec)
    if rec >= 10**9 and rec <= 20*10**9:
        rec = rec/10**9
        word = '現在の周波数は ' + str(rec) + '[' + unit_list[0] + ']です。'
    elif rec <10**9 and rec >=10**6:
        rec = rec/10**6
        word = '現在の周波数は ' + str(rec) + '[' + unit_list[1] + ']です。'
    elif rec <10**6 and rec >=250*10**3:
        rec = rec/10**3
        word = '現在の周波数は ' + str(rec) + '[' + unit_list[2] + ']です。'
    else:
        print('周波数エラーです。\n250kHz〜20GHzで設定してください')
    print(word)
    return

# 周波数設定
def set_freq(freq, unit):
    command = 'FREQ {:.2f} {}\n'.format(freq, unit)
    com.send(command.encode())
    check_freq()
    return 

# 出力強度[dBm]の確認
def check_power():
    com.send('POW?\n'.encode())
    rec = com.recv(1024).decode().strip()
    rec = float(rec)
    word = '現在の出力強度は ' + str(rec) + "[dBm]です。"
    print(word)
    return

# 強度設定
def set_power(power, unit):
    command = 'POW {:.2f} {}\n'.format(power, unit)
    com.send(command.encode())
    check_power()
    return

# 接続終了
def close_connection():
    com.close()
    rec = print("接続終了")
    return rec
