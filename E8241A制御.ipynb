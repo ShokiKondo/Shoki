{
 "cells": [
  {
   "cell_type": "code",
   "execution_count": 5,
   "metadata": {},
   "outputs": [],
   "source": [
    "# E8241A\n",
    "import socket, time, sys\n",
    "IP = \"169.254.83.128\"\n",
    "com = socket.socket( socket.AF_INET, socket.SOCK_STREAM )\n",
    "com.settimeout(1.0)\n",
    "port = int(7777)\n",
    "com.connect((IP, port))"
   ]
  },
  {
   "cell_type": "code",
   "execution_count": 6,
   "metadata": {},
   "outputs": [],
   "source": [
    "# RFの状態確認 ON or OFF\n",
    "def check_RF_on_off():\n",
    "    com.send('OUTP?\\n'.encode())\n",
    "    rec = com.recv(1024) #OFF: 0, ON: 1が返ってくる\n",
    "\n",
    "    if rec == b'0\\n':\n",
    "        rec = \"OFF\"\n",
    "    elif rec == b'1\\n':\n",
    "        rec = \"ON\"\n",
    "    else:\n",
    "        rec = print(\"Error\")\n",
    "    return rec\n",
    "\n",
    "# RF: ON\n",
    "def RF_on():\n",
    "    com.send(\"OUTP ON\\n\".encode())\n",
    "    rec = check_RF_on_off()\n",
    "    if rec == \"ON\":\n",
    "        rec = \"RF信号がONに設定されました。\"\n",
    "        pass\n",
    "    else:\n",
    "        print(\"\\n RF の On/Off 状態を確認出来ませんでした。通信エラーの可能性があります。\")\n",
    "        sys.exit(\"RF_on\")\n",
    "    return rec\n",
    "\n",
    "# RF: OFF\n",
    "def RF_off():\n",
    "    com.send(\"OUTP OFF\\n\".encode())\n",
    "    rec = check_RF_on_off()\n",
    "    if rec == \"OFF\":\n",
    "        rec = \"RF信号がOFFに設定されました。\"\n",
    "        pass\n",
    "    else:\n",
    "        print(\"\\n RF の On/Off 状態を確認出来ませんでした。通信エラーの可能性があります。\")\n",
    "        sys.exit(\"RF_off\")\n",
    "    return rec\n",
    "\n",
    "# 周波数の確認\n",
    "def check_freq():\n",
    "    unit_list = ['GHz', 'MHz', 'KHz']\n",
    "    com.send('Freq?\\n'.encode())\n",
    "    rec = com.recv(1024).decode().strip()\n",
    "    rec = float(rec)\n",
    "    if rec >= 10**9 and rec <= 20*10**9:\n",
    "        rec = rec/10**9\n",
    "        word = '現在の周波数は ' + str(rec) + '[' + unit_list[0] + ']です。'\n",
    "    elif rec <10**9 and rec >=10**6:\n",
    "        rec = rec/10**6\n",
    "        word = '現在の周波数は ' + str(rec) + '[' + unit_list[1] + ']です。'\n",
    "    elif rec <10**6 and rec >=250*10**3:\n",
    "        rec = rec/10**3\n",
    "        word = '現在の周波数は ' + str(rec) + '[' + unit_list[2] + ']です。'\n",
    "    else:\n",
    "        print('周波数エラーです。\\n250kHz〜20GHzで設定してください')\n",
    "    print(word)\n",
    "    return\n",
    "\n",
    "# 周波数設定\n",
    "def set_freq(freq, unit):\n",
    "    command = 'FREQ {:.2f} {}\\n'.format(freq, unit)\n",
    "    com.send(command.encode())\n",
    "    check_freq()\n",
    "    return \n",
    "\n",
    "# 出力強度[dBm]の確認\n",
    "def check_power():\n",
    "    com.send('POW?\\n'.encode())\n",
    "    rec = com.recv(1024).decode().strip()\n",
    "    rec = float(rec)\n",
    "    word = '現在の出力強度は ' + str(rec) + \"[dBm]です。\"\n",
    "    print(word)\n",
    "    return\n",
    "\n",
    "# 強度設定\n",
    "def set_power(power, unit):\n",
    "    command = 'POW {:.2f} {}\\n'.format(power, unit)\n",
    "    com.send(command.encode())\n",
    "    check_power()\n",
    "    return\n",
    "\n",
    "# 接続終了\n",
    "def close_connection():\n",
    "    com.close()\n",
    "    rec = print(\"接続終了\")\n",
    "    return rec"
   ]
  },
  {
   "cell_type": "code",
   "execution_count": 7,
   "metadata": {},
   "outputs": [
    {
     "data": {
      "text/plain": [
       "'OFF'"
      ]
     },
     "execution_count": 7,
     "metadata": {},
     "output_type": "execute_result"
    }
   ],
   "source": [
    "check_RF_on_off()"
   ]
  },
  {
   "cell_type": "code",
   "execution_count": 12,
   "metadata": {},
   "outputs": [
    {
     "data": {
      "text/plain": [
       "'RF信号がONに設定されました。'"
      ]
     },
     "execution_count": 12,
     "metadata": {},
     "output_type": "execute_result"
    }
   ],
   "source": [
    "RF_on()"
   ]
  },
  {
   "cell_type": "code",
   "execution_count": 14,
   "metadata": {},
   "outputs": [
    {
     "data": {
      "text/plain": [
       "'RF信号がOFFに設定されました。'"
      ]
     },
     "execution_count": 14,
     "metadata": {},
     "output_type": "execute_result"
    }
   ],
   "source": [
    "RF_off()"
   ]
  },
  {
   "cell_type": "code",
   "execution_count": 16,
   "metadata": {},
   "outputs": [
    {
     "name": "stdout",
     "output_type": "stream",
     "text": [
      "現在の周波数は 7.0[GHz]です。\n"
     ]
    }
   ],
   "source": [
    "check_freq()"
   ]
  },
  {
   "cell_type": "code",
   "execution_count": 219,
   "metadata": {},
   "outputs": [
    {
     "name": "stdout",
     "output_type": "stream",
     "text": [
      "現在の周波数は 7.0[GHz]です。\n"
     ]
    }
   ],
   "source": [
    "set_freq(7, unit = \"GHz\")"
   ]
  },
  {
   "cell_type": "code",
   "execution_count": 211,
   "metadata": {},
   "outputs": [
    {
     "name": "stdout",
     "output_type": "stream",
     "text": [
      "現在の出力強度は 2.6[dBm]です。\n"
     ]
    }
   ],
   "source": [
    "check_power()"
   ]
  },
  {
   "cell_type": "code",
   "execution_count": 216,
   "metadata": {},
   "outputs": [
    {
     "name": "stdout",
     "output_type": "stream",
     "text": [
      "現在の出力強度は 1.0[dBm]です。\n"
     ]
    }
   ],
   "source": [
    "set_power(1, unit='dBm')"
   ]
  },
  {
   "cell_type": "code",
   "execution_count": 20,
   "metadata": {},
   "outputs": [
    {
     "name": "stdout",
     "output_type": "stream",
     "text": [
      "接続終了\n"
     ]
    }
   ],
   "source": [
    "# 制御終わったら実行\n",
    "close_connection()"
   ]
  },
  {
   "cell_type": "code",
   "execution_count": 9,
   "metadata": {},
   "outputs": [
    {
     "name": "stdout",
     "output_type": "stream",
     "text": [
      "Agilent Technologies, E8241A, US42110620, C.01.24\n",
      "\n"
     ]
    }
   ],
   "source": [
    "cmd = \"*IDN?\\n\"\n",
    "com.send(cmd.encode())\n",
    "ret = com.recv(1024).decode()\n",
    "print(ret)"
   ]
  },
  {
   "cell_type": "code",
   "execution_count": null,
   "metadata": {},
   "outputs": [],
   "source": []
  }
 ],
 "metadata": {
  "kernelspec": {
   "display_name": "base",
   "language": "python",
   "name": "python3"
  },
  "language_info": {
   "codemirror_mode": {
    "name": "ipython",
    "version": 3
   },
   "file_extension": ".py",
   "mimetype": "text/x-python",
   "name": "python",
   "nbconvert_exporter": "python",
   "pygments_lexer": "ipython3",
   "version": "3.9.6"
  }
 },
 "nbformat": 4,
 "nbformat_minor": 2
}
